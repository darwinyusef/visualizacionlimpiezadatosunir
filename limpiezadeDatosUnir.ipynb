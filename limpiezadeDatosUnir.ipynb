{
  "nbformat": 4,
  "nbformat_minor": 0,
  "metadata": {
    "colab": {
      "private_outputs": true,
      "provenance": [],
      "cell_execution_strategy": "setup",
      "gpuType": "T4",
      "authorship_tag": "ABX9TyOz/UadvFllLI1Ncr6rXvMb",
      "include_colab_link": true
    },
    "kernelspec": {
      "name": "python3",
      "display_name": "Python 3"
    },
    "language_info": {
      "name": "python"
    },
    "accelerator": "GPU"
  },
  "cells": [
    {
      "cell_type": "markdown",
      "metadata": {
        "id": "view-in-github",
        "colab_type": "text"
      },
      "source": [
        "<a href=\"https://colab.research.google.com/github/darwinyusef/visualizacionlimpiezadatosunir/blob/master/limpiezadeDatosUnir.ipynb\" target=\"_parent\"><img src=\"https://colab.research.google.com/assets/colab-badge.svg\" alt=\"Open In Colab\"/></a>"
      ]
    },
    {
      "cell_type": "code",
      "execution_count": null,
      "metadata": {
        "id": "bXzR28MnmE1u"
      },
      "outputs": [],
      "source": [
        "!pip install pandas\n",
        "!pip install numpy\n",
        "!pip install seaborn\n",
        "!pip install matplotlib\n",
        "!pip install re"
      ]
    },
    {
      "cell_type": "code",
      "source": [
        "import pandas as pd\n",
        "import re\n",
        "from datetime import datetime\n",
        "import seaborn as sns"
      ],
      "metadata": {
        "id": "ZqxLlEuem7-F"
      },
      "execution_count": null,
      "outputs": []
    },
    {
      "cell_type": "code",
      "source": [
        "from google.colab import drive\n",
        "drive.mount('/content/drive')"
      ],
      "metadata": {
        "id": "XhJ_UqzjSxq-"
      },
      "execution_count": null,
      "outputs": []
    },
    {
      "cell_type": "code",
      "source": [
        "#df = pd.read_csv('/content/datos_ventas.csv')\n",
        "df = pd.read_csv('/content/drive/MyDrive/UNIR/visualizacion/datos_ventas.csv')\n",
        "df.dropna()\n",
        "df.drop_duplicates()"
      ],
      "metadata": {
        "id": "M16mEjQlo4jK"
      },
      "execution_count": null,
      "outputs": []
    },
    {
      "cell_type": "code",
      "source": [
        "# @title Limpiar los emails con regex\n",
        "df['Email'] = df['Email'].str.strip()  # Quitar espacios iniciales y finales\n",
        "df['Email'] = df['Email'].apply(lambda x: re.sub(r'^[^a-zA-Z]+|[^a-zA-Z]+$', '', x))\n",
        "df['Email'] = df['Email'].str.replace('*', '@', regex=False)\n",
        "df['Email'] = df['Email'].str.replace('?', '@', regex=False)\n",
        "df['Email'] = df['Email'].str.replace('!', '@', regex=False)\n",
        "df['Email'] = df['Email'].str.replace('  ', '@', regex=False)"
      ],
      "metadata": {
        "id": "cRBE4Dz1nUrk"
      },
      "execution_count": null,
      "outputs": []
    },
    {
      "cell_type": "markdown",
      "source": [],
      "metadata": {
        "id": "7VS-rCstq1op"
      }
    },
    {
      "cell_type": "code",
      "source": [
        "# @title Filtra los simbolos internos *_?!  , para ver los cambios\n",
        "filtered_df = df['Email'].str.contains(r'[\\*_?!  ]', regex=True)\n",
        "for index, value in enumerate(filtered_df):\n",
        "  if value == True:\n",
        "    print(index, value, df[\"Email\"][index])"
      ],
      "metadata": {
        "id": "V00w4hBUno_N"
      },
      "execution_count": null,
      "outputs": []
    },
    {
      "cell_type": "code",
      "source": [
        "# @title Filtra los simbolos internos .. para ver los cambios\n",
        "\n",
        "filtered_df2 = df['Email'].str.contains(r'\\.\\.', regex=True)\n",
        "filtered_df2\n",
        "for index, value in enumerate(filtered_df2):\n",
        "  if value == True:\n",
        "    print(index, value, df[\"Email\"][index])"
      ],
      "metadata": {
        "id": "pgrix2_snnVk"
      },
      "execution_count": null,
      "outputs": []
    },
    {
      "cell_type": "code",
      "source": [
        "hoy = datetime.today().strftime('%Y-%m-%d')\n",
        "df['Fecha_Venta'] = df['Fecha_Venta'].astype(str)\n",
        "\n",
        "# Limpiar las fechas eliminando caracteres no válidos y reemplazando fechas inválidas por la fecha actual\n",
        "df['Fecha_Venta'] = df['Fecha_Venta'].apply(lambda x: re.sub(r'[^0-9\\-]', '', x) if re.match(r'\\d{4}-\\d{2}-\\d{2}', x) else hoy)\n",
        "df['Fecha_Venta']"
      ],
      "metadata": {
        "id": "-ZX-9P0Qsani"
      },
      "execution_count": null,
      "outputs": []
    },
    {
      "cell_type": "code",
      "source": [
        "# Imprimir las fechas inválidas\n",
        "for index, value in enumerate(df['Fecha_Venta']):\n",
        "    if 'None' in value:\n",
        "      print(f'Index: {index}, Value: {value}, Fecha_Venta: {df[\"Fecha_Venta\"][index]}')\n",
        "\n",
        "df['Producto'][42]"
      ],
      "metadata": {
        "id": "NntqmDNcwYxz"
      },
      "execution_count": null,
      "outputs": []
    },
    {
      "cell_type": "code",
      "source": [
        "def informationClean(info):\n",
        "  # Convert the column to string type, handling potential NaNs\n",
        "  info = info.astype(str).apply(lambda x: re.sub(r'^[*?\\._]+|[*?\\._]+$', '', x).strip())\n",
        "  info = info.str.lstrip()\n",
        "  info = info.str.rstrip()\n",
        "  a = info.str.contains(r'\\.\\.', regex=True)\n",
        "  b = info.str.contains(r'[\\*_?!  ]', regex=True)\n",
        "  # a filtra los .. | b filtra *_?!   | c obtiene la info final\n",
        "  return [a, b, info]"
      ],
      "metadata": {
        "id": "JwXzrTYIxS04"
      },
      "execution_count": null,
      "outputs": []
    },
    {
      "cell_type": "code",
      "source": [
        "# Imprimir las Productos inválidos\n",
        "for index, value in enumerate(informationClean(df['Producto'])[0]):\n",
        "    if value == True:\n",
        "      print(f'Index: {index}, Value: {value}, Producto: {df[\"Producto\"][index]}')"
      ],
      "metadata": {
        "id": "Ep8uibXx_NWH"
      },
      "execution_count": null,
      "outputs": []
    },
    {
      "cell_type": "code",
      "source": [
        "df['Producto'] = informationClean(df['Producto'])[2]\n",
        "df['Direccion'] = informationClean(df['Direccion'])[2]\n",
        "df['Categoria'] = informationClean(df['Categoria'])[2]\n",
        "df['Metodo_Pago'] = informationClean(df['Metodo_Pago'])[2]\n",
        "df['Cliente'] = informationClean(df['Cliente'])[2]\n",
        "df['Estado'] = informationClean(df['Estado'])[2]"
      ],
      "metadata": {
        "id": "3aymoPwRycRL"
      },
      "execution_count": null,
      "outputs": []
    },
    {
      "cell_type": "code",
      "source": [
        "df['Comentario'] = df['Comentario'].str.lstrip('\\n\\r')\n",
        "df['Comentario'] = df['Comentario'].str.lstrip(' ')\n",
        "df['Comentario'] = df['Comentario'].str.lstrip()\n",
        "# df['Comentario'] = df['Comentario'].fillna('Ninguno')\n",
        "# df['Comentario'] = df['Comentario'].str.replace('', 'Ninguno', regex=False)\n"
      ],
      "metadata": {
        "id": "9VtauPLvNhD_"
      },
      "execution_count": null,
      "outputs": []
    },
    {
      "cell_type": "code",
      "source": [
        "def limpiar_telefono(telefono):\n",
        "    # Primero extraemos el indicativo en paréntesis y limpiamos todo lo demás\n",
        "    telefono = re.sub(r'[^\\d\\(\\)\\-]', '', telefono)\n",
        "    telefono = re.sub(r'[-]', '', telefono)\n",
        "    telefono.rstrip()\n",
        "    telefono.lstrip()\n",
        "    if re.match(r'\\(\\d{3}\\)', telefono):\n",
        "        telefono = re.sub(r'\\D', '', telefono)\n",
        "        return f'({telefono[:3]}) {telefono[4:100]}'\n",
        "    elif len(telefono) < 11:\n",
        "        return f'{telefono[:100]}'\n",
        "    elif len(telefono) > 11:\n",
        "        return f'({telefono[:3]}) {telefono[4:100]}'\n",
        "    else:\n",
        "        telefono = re.sub(r'\\D', '', telefono)\n",
        "        return telefono\n",
        "\n",
        "# eliminar mini caracteres\n",
        "def limpiarminimos(telefono):\n",
        "  if len(telefono) < 9:\n",
        "    # Remove the regex=False keyword argument\n",
        "    telefono = telefono.replace('(', '')\n",
        "    telefono = telefono.replace(')', '')\n",
        "    return telefono\n",
        "  return telefono\n",
        "\n",
        "# Limpiar todos los números de teléfono\n",
        "df['Telefono'] = [limpiar_telefono(t) for t in df['Telefono']]\n",
        "df['Telefono'] = [limpiarminimos(t) for t in df['Telefono']]\n",
        "df['Telefono'][20:50]"
      ],
      "metadata": {
        "id": "KYwZF-MdP3TB"
      },
      "execution_count": null,
      "outputs": []
    },
    {
      "cell_type": "code",
      "source": [
        "df.value_counts()\n",
        "inicioFalsos = df.applymap(lambda x: not bool(x))\n",
        "countFalsos = inicioFalsos.sum()\n",
        "totalesFalsos = countFalsos.values.sum()\n",
        "countFalsos"
      ],
      "metadata": {
        "id": "406RzIafIl1K"
      },
      "execution_count": null,
      "outputs": []
    },
    {
      "cell_type": "code",
      "source": [
        "df.describe().round(0)"
      ],
      "metadata": {
        "id": "uV0glu3iCFfP"
      },
      "execution_count": null,
      "outputs": []
    },
    {
      "cell_type": "code",
      "source": [
        "falsos = df.applymap(lambda x: not bool(x))\n",
        "conteo_falsos_por_columna = falsos.sum()\n",
        "total_falsos = falsos.values.sum()\n",
        "\n",
        "print(\"\\nConteo de valores falsos por columna:\")\n",
        "print(conteo_falsos_por_columna)\n",
        "print(f\"\\nTotal de valores falsos en el DataFrame: {total_falsos}\")"
      ],
      "metadata": {
        "id": "IE74f59zGIWL"
      },
      "execution_count": null,
      "outputs": []
    },
    {
      "cell_type": "code",
      "source": [
        "# Detectar solo cadenas vacías o nulas y no valores con texto en los comentarios\n",
        "for idx, valor in enumerate(df['Comentario']):\n",
        "    if valor == '' or pd.isnull(valor):  # Detecta cadenas vacías o nulos\n",
        "        print(f\"Índice: {idx}, Valor falso: {repr(valor)}, Valor original: {df['Comentario'][idx]}\")\n",
        "        df.loc[idx, 'Comentario'] = 'Ninguno'"
      ],
      "metadata": {
        "id": "nE6yvfRfGzDi"
      },
      "execution_count": null,
      "outputs": []
    },
    {
      "cell_type": "code",
      "source": [
        "# @title Corrección de lo anterior en la capa de comentario\n",
        "df['Comentario'] = df['Comentario'].str.replace(r'[^a-zA-Z0-9\\s]', '', regex=True).str.strip()\n",
        "df['Comentario'] = df['Comentario'].str.replace(\"Productodefectuoso\", \"Producto defectuoso\", regex=False)\n",
        "df['Comentario'] = df['Comentario'].str.replace(\"Producto  defectuoso\", \"Producto defectuoso\", regex=False)\n",
        "df['Comentario'] = df['Comentario'].replace(\"\", \"Ninguno\")\n",
        "# Contar las ocurrencias de cada producto\n",
        "comment_counts = df['Comentario'].value_counts().reset_index()\n",
        "comment_counts.columns = ['Comentario', 'Count']\n",
        "comment_counts"
      ],
      "metadata": {
        "id": "A2t0SU4S5lTn"
      },
      "execution_count": null,
      "outputs": []
    },
    {
      "cell_type": "code",
      "source": [
        "# Asegurarte de que las categorías y productos estén en mayúsculas\n",
        "df['Categoria'] = df['Categoria'].str.upper()\n",
        "# Contar las ocurrencias de cada categoría\n",
        "category_counts = df['Categoria'].value_counts().reset_index()\n",
        "category_counts.columns = ['Categoria', 'Count']\n",
        "category_counts"
      ],
      "metadata": {
        "id": "C6q1-PxmzgTO"
      },
      "execution_count": null,
      "outputs": []
    },
    {
      "cell_type": "code",
      "source": [
        "# Eliminar detalles signos especiales en las columnas 'Estado' y 'Metodo_Pago'\n",
        "df['Estado'] = df['Estado'].str.replace(r'[^a-zA-Z0-9\\s]', '', regex=True).str.strip()\n",
        "df['Estado'] = df['Estado'].str.replace(\"Encamino\", \"En camino\", regex=False)\n",
        "df['Estado'] = df['Estado'].str.replace(\"En  camino\", \"En camino\", regex=False)\n",
        "# Contar las ocurrencias de cada Estado\n",
        "state_counts = df['Estado'].value_counts().reset_index()\n",
        "state_counts.columns = ['Estado', 'Count']\n",
        "state_counts"
      ],
      "metadata": {
        "id": "f6F1W4Im2pgn"
      },
      "execution_count": null,
      "outputs": []
    },
    {
      "cell_type": "code",
      "source": [
        "# Eliminar detalles signos especiales en las columnas 'Estado' y 'Metodo_Pago'\n",
        "df['Ciudad'] = df['Ciudad'].str.replace(r'[^a-zA-Z0-9\\s]', '', regex=True).str.strip()\n",
        "df['Ciudad'] = df['Ciudad'].str.replace(\"Encamino\", \"En camino\", regex=False)\n",
        "df['Ciudad'] = df['Ciudad'].str.replace(\"En  camino\", \"En camino\", regex=False)\n",
        "# Contar las ocurrencias de cada Estado\n",
        "city_counts = df['Ciudad'].value_counts().reset_index()\n",
        "city_counts.columns = ['Ciudad', 'Count']\n",
        "# define la cantidad de elementos repetidos\n",
        "city_counts.duplicated().head()"
      ],
      "metadata": {
        "id": "5xzVotDdpmAW"
      },
      "execution_count": null,
      "outputs": []
    },
    {
      "cell_type": "code",
      "source": [
        "df['Metodo_Pago'] = df['Metodo_Pago'].str.replace(r'[^a-zA-Z0-9\\s]', '', regex=True)\n",
        "# Contar las ocurrencias de cada Metodo_Pago\n",
        "method_counts = df['Metodo_Pago'].value_counts().reset_index()\n",
        "method_counts.columns = ['Metodo_Pago', 'Count']\n",
        "method_counts"
      ],
      "metadata": {
        "id": "gKNn1RaF3CZP"
      },
      "execution_count": null,
      "outputs": []
    },
    {
      "cell_type": "code",
      "source": [
        "df['Producto'] = df['Producto'].str.upper()\n",
        "\n",
        "# Contar las ocurrencias de cada producto\n",
        "product_counts = df['Producto'].value_counts().reset_index()\n",
        "product_counts.columns = ['Producto', 'Count']\n",
        "product_counts"
      ],
      "metadata": {
        "id": "gvZHVpWr3eOX"
      },
      "execution_count": null,
      "outputs": []
    },
    {
      "cell_type": "code",
      "source": [
        "# Verificar el resultado\n",
        "df.head(40)"
      ],
      "metadata": {
        "id": "ccuSV6PR28CP"
      },
      "execution_count": null,
      "outputs": []
    },
    {
      "source": [
        "# @title Precio_Unitario\n",
        "\n",
        "from matplotlib import pyplot as plt\n",
        "df['Precio_Unitario'].plot(kind='hist', bins=20, title='Precio_Unitario')\n",
        "plt.gca().spines[['top', 'right',]].set_visible(False)"
      ],
      "cell_type": "code",
      "execution_count": null,
      "outputs": [],
      "metadata": {
        "id": "Gdazq34GaG6r"
      }
    },
    {
      "cell_type": "code",
      "source": [
        "# Exportar el DataFrame a un archivo CSV\n",
        "df.to_csv('/content/drive/MyDrive/UNIR/visualizacion/limpio_ventas_dashboard.csv', index=False)\n",
        "\n",
        "print(\"Archivo CSV exportado exitosamente.\")"
      ],
      "metadata": {
        "id": "8PZfl2blxMAO"
      },
      "execution_count": null,
      "outputs": []
    }
  ]
}